{
 "cells": [
  {
   "cell_type": "code",
   "execution_count": 1,
   "metadata": {},
   "outputs": [
    {
     "name": "stdout",
     "output_type": "stream",
     "text": [
      "Original tuple values:\n",
      "(('333', '33'), ('1416', '55'))\n",
      "\n",
      "New tuple values:\n",
      "((333, 33), (1416, 55))\n"
     ]
    }
   ],
   "source": [
    "def tuple_int_str(tuple_str):\n",
    "    result = tuple((int(x[0]), int(x[1])) for x in tuple_str)\n",
    "    return result   \n",
    "tuple_str =  (('333', '33'), ('1416', '55'))\n",
    "print(\"Original tuple values:\")\n",
    "print(tuple_str)\n",
    "print(\"\\nNew tuple values:\")\n",
    "print(tuple_int_str(tuple_str))\n"
   ]
  },
  {
   "cell_type": "code",
   "execution_count": null,
   "metadata": {},
   "outputs": [],
   "source": []
  }
 ],
 "metadata": {
  "kernelspec": {
   "display_name": "Python 3",
   "language": "python",
   "name": "python3"
  },
  "language_info": {
   "codemirror_mode": {
    "name": "ipython",
    "version": 3
   },
   "file_extension": ".py",
   "mimetype": "text/x-python",
   "name": "python",
   "nbconvert_exporter": "python",
   "pygments_lexer": "ipython3",
   "version": "3.8.5"
  }
 },
 "nbformat": 4,
 "nbformat_minor": 4
}
